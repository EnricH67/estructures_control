{
 "cells": [
  {
   "cell_type": "markdown",
   "metadata": {},
   "source": [
    "# TASCA 3\n",
    "\n",
    "## NIVELL 1\n",
    "\n",
    "### *EXERCICI 1*"
   ]
  },
  {
   "cell_type": "markdown",
   "metadata": {},
   "source": [
    "+ L'exercici consisteix a crear un programa que et classifiqui una variable numèrica en funció de l’escala Suspès/Aprovat/Notable/Excel·lent"
   ]
  },
  {
   "cell_type": "code",
   "execution_count": 1,
   "metadata": {},
   "outputs": [],
   "source": [
    "def classificacio():\n",
    "    nota = float(input('Introdueix la nota (0 -  10 amb decimals si cal):  '))\n",
    "    \n",
    "    if nota < 5:\n",
    "        result = 'Suspés'\n",
    "    elif 5 <=  nota < 7:\n",
    "        result = 'Aprovat'\n",
    "    elif 7 <= nota <= 8.50:\n",
    "        result = 'Notable'\n",
    "    else :\n",
    "         result = 'Excel.lent'\n",
    "    print('La classificació obtinguda és de: {}'.format(result))\n",
    "        "
   ]
  },
  {
   "cell_type": "code",
   "execution_count": 2,
   "metadata": {},
   "outputs": [
    {
     "name": "stdout",
     "output_type": "stream",
     "text": [
      "Introdueix la nota (0 -  10 amb decimals si cal):  8.55\n",
      "La classificació obtinguda és de: Excel.lent\n"
     ]
    }
   ],
   "source": [
    "classificacio()"
   ]
  },
  {
   "cell_type": "markdown",
   "metadata": {},
   "source": [
    "### *EXERCICI 2*"
   ]
  },
  {
   "cell_type": "markdown",
   "metadata": {},
   "source": [
    "+ Utilitzant el següent tutorial Programiz: Python Input, Output and Import crea un programa que et pregunti dos números. T’ha de mostrar un missatge dient si el primer és més gran, el segon és més gran o són iguals."
   ]
  },
  {
   "cell_type": "code",
   "execution_count": 3,
   "metadata": {},
   "outputs": [],
   "source": [
    "def comparacio_num():\n",
    "    num1 = int(input('Introdueix el primer número (0 - 40):  '))\n",
    "    num2 = int(input('Introdueix el segon número (0 - 40):  '))\n",
    "    \n",
    "    if num1 > num2:\n",
    "        print('El primer número és més gran que el segon')\n",
    "    elif num1 == num2:\n",
    "        print('El primer número i el segon són iguals')\n",
    "    else:\n",
    "        print('El segon número és més gran que el primer')\n",
    "        "
   ]
  },
  {
   "cell_type": "code",
   "execution_count": 4,
   "metadata": {},
   "outputs": [
    {
     "name": "stdout",
     "output_type": "stream",
     "text": [
      "Introdueix el primer número (0 - 40):  20\n",
      "Introdueix el segon número (0 - 40):  25\n",
      "El segon número és més gran que el primer\n"
     ]
    }
   ],
   "source": [
    "comparacio_num()"
   ]
  },
  {
   "cell_type": "markdown",
   "metadata": {},
   "source": [
    "### *EXERCICI 3*"
   ]
  },
  {
   "cell_type": "markdown",
   "metadata": {},
   "source": [
    "+ Crea un programa que et pregunti el teu nom, i et demani un número. Si el número és 0, hauria de mostrar un missatge d’error. En cas contrari, hauria de mostrar el nom repetit tants cops com indiqui el número. Per exemple, “Joan Joan Joan”."
   ]
  },
  {
   "cell_type": "code",
   "execution_count": 5,
   "metadata": {},
   "outputs": [],
   "source": [
    "def nom_numero():\n",
    "    nom = (input('Introdueix el teu nom:  '))\n",
    "    numero = int(input('Introdueix un número (1 - 10):  '))\n",
    "    \n",
    "    if numero == 0:\n",
    "        print('S\\'ha produït un error.Cal introduïr un numero entre 1 -10')\n",
    "    else:\n",
    "        print(nom*numero)\n",
    "    "
   ]
  },
  {
   "cell_type": "code",
   "execution_count": 6,
   "metadata": {},
   "outputs": [
    {
     "name": "stdout",
     "output_type": "stream",
     "text": [
      "Introdueix el teu nom:   Enric \n",
      "Introdueix un número (1 - 10):  5\n",
      " Enric  Enric  Enric  Enric  Enric \n"
     ]
    }
   ],
   "source": [
    "nom_numero()"
   ]
  },
  {
   "cell_type": "markdown",
   "metadata": {},
   "source": [
    "### *EXERCICI 4*"
   ]
  },
  {
   "cell_type": "markdown",
   "metadata": {},
   "source": [
    "+ Crea un programa que donada una llista qualsevol, et digui si es simètrica o no. Si ho és, que et digui quants elements té\n",
    "\n",
    "\n",
    "+ *Primer ho fem amb una llista que és simètrica*\n"
   ]
  },
  {
   "cell_type": "code",
   "execution_count": 7,
   "metadata": {},
   "outputs": [],
   "source": [
    "list1 = [1, 2, 3, 3, 2, 1]"
   ]
  },
  {
   "cell_type": "code",
   "execution_count": 8,
   "metadata": {
    "scrolled": true
   },
   "outputs": [
    {
     "data": {
      "text/plain": [
       "[1, 2, 3, 3, 2, 1]"
      ]
     },
     "execution_count": 8,
     "metadata": {},
     "output_type": "execute_result"
    }
   ],
   "source": [
    "list1"
   ]
  },
  {
   "cell_type": "code",
   "execution_count": 9,
   "metadata": {},
   "outputs": [
    {
     "name": "stdout",
     "output_type": "stream",
     "text": [
      "La llista és simètrica i té 6 elements\n"
     ]
    }
   ],
   "source": [
    "def es_simetrica(list1):    \n",
    "    for i in range(len(list1)//2):\n",
    "        if list1[i] !=list1[len(list1) - 1 - i]:\n",
    "            return False        \n",
    "    return True\n",
    "\n",
    "if es_simetrica(list1) == True :\n",
    "    elements = len(list1)\n",
    "    print('La llista és simètrica i té {} elements'.format(elements))\n",
    "else:\n",
    "    print('La llista no és simètrica')"
   ]
  },
  {
   "cell_type": "markdown",
   "metadata": {},
   "source": [
    "+ *I ara ho fem amb una llista que  NO és simètrica*"
   ]
  },
  {
   "cell_type": "code",
   "execution_count": 10,
   "metadata": {},
   "outputs": [],
   "source": [
    "list2 = [1, 2, 4, 7, 6, 3, 2, 1]"
   ]
  },
  {
   "cell_type": "code",
   "execution_count": 11,
   "metadata": {},
   "outputs": [
    {
     "name": "stdout",
     "output_type": "stream",
     "text": [
      "La llista no és simètrica\n"
     ]
    }
   ],
   "source": [
    "def es_simetrica(list2):\n",
    "    for i in range(len(list2)//2):       \n",
    "        if list2[i] != list2[len(list2) - 1 - i]:            \n",
    "            return False        \n",
    "    return True\n",
    "\n",
    "if es_simetrica(list2) == True :\n",
    "    elements = len(list2)\n",
    "    print('La llista és simètrica i té {} elements'.format(elements))\n",
    "else:\n",
    "    print('La llista no és simètrica')"
   ]
  },
  {
   "cell_type": "markdown",
   "metadata": {},
   "source": [
    "### *EXERCICI 5*"
   ]
  },
  {
   "cell_type": "markdown",
   "metadata": {},
   "source": [
    "+ Crea un programa que donada una llista, et digui quants números coincideixen amb la seva posició. Per exemple [3,4,2,0,2,3,6] el 2 i el 6 coincideixen."
   ]
  },
  {
   "cell_type": "code",
   "execution_count": 12,
   "metadata": {},
   "outputs": [],
   "source": [
    "list3 =  [0, 5, 2, 1 , 4, 2, 6]"
   ]
  },
  {
   "cell_type": "code",
   "execution_count": 13,
   "metadata": {},
   "outputs": [],
   "source": [
    "coincidents = []\n",
    "def valor_igual_posicio(list3):    \n",
    "    for i in list3:        \n",
    "        if list3[i] == i:\n",
    "            coincidents.append(list3[i])\n",
    "            \n",
    "    return coincidents\n",
    "      "
   ]
  },
  {
   "cell_type": "code",
   "execution_count": 14,
   "metadata": {},
   "outputs": [
    {
     "data": {
      "text/plain": [
       "[0, 2, 4, 2, 6]"
      ]
     },
     "execution_count": 14,
     "metadata": {},
     "output_type": "execute_result"
    }
   ],
   "source": [
    "valor_igual_posicio(list3)"
   ]
  },
  {
   "cell_type": "code",
   "execution_count": 15,
   "metadata": {},
   "outputs": [
    {
     "data": {
      "text/plain": [
       "[0, 2, 4, 2, 6]"
      ]
     },
     "execution_count": 15,
     "metadata": {},
     "output_type": "execute_result"
    }
   ],
   "source": [
    "coincidents"
   ]
  },
  {
   "cell_type": "code",
   "execution_count": 16,
   "metadata": {},
   "outputs": [],
   "source": [
    "valors_igual_posicio = set(coincidents)"
   ]
  },
  {
   "cell_type": "code",
   "execution_count": 17,
   "metadata": {},
   "outputs": [
    {
     "data": {
      "text/plain": [
       "{0, 2, 4, 6}"
      ]
     },
     "execution_count": 17,
     "metadata": {},
     "output_type": "execute_result"
    }
   ],
   "source": [
    "valors_igual_posicio"
   ]
  },
  {
   "cell_type": "code",
   "execution_count": 18,
   "metadata": {},
   "outputs": [
    {
     "name": "stdout",
     "output_type": "stream",
     "text": [
      "Els numeros que coincideix el seu valor amb l'index de la seva posició son: 4\n"
     ]
    }
   ],
   "source": [
    "print('Els numeros que coincideix el seu valor amb l\\'index de la seva posició son: {}'.format(len(valors_igual_posicio)))"
   ]
  }
 ],
 "metadata": {
  "kernelspec": {
   "display_name": "Python 3",
   "language": "python",
   "name": "python3"
  },
  "language_info": {
   "codemirror_mode": {
    "name": "ipython",
    "version": 3
   },
   "file_extension": ".py",
   "mimetype": "text/x-python",
   "name": "python",
   "nbconvert_exporter": "python",
   "pygments_lexer": "ipython3",
   "version": "3.8.5"
  }
 },
 "nbformat": 4,
 "nbformat_minor": 4
}
